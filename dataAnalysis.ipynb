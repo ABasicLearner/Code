import pandas as pd
df = pd.read_csv("C:\Users\PRITI CHAUDHARY\Downloads\Weather data.csv")
print(df)